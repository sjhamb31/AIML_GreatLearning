{
 "cells": [
  {
   "cell_type": "code",
   "execution_count": 1,
   "metadata": {},
   "outputs": [],
   "source": [
    "'''importing libraries'''\n",
    "import numpy as np\n",
    "import pandas as pd\n",
    "import seaborn as sns\n",
    "import matplotlib.pyplot as plt\n",
    "%matplotlib inline\n",
    "import warnings\n",
    "import tensorflow as tf\n",
    "from tensorflow.keras.models import Sequential\n",
    "from tensorflow.keras.layers import Dense, Dropout, Activation, Flatten\n",
    "from tensorflow.keras.layers import Conv2D, MaxPooling2D, GlobalMaxPool2D\n",
    "from tensorflow.keras.callbacks import ModelCheckpoint, EarlyStopping\n",
    "from tensorflow.keras.preprocessing.image import ImageDataGenerator\n",
    "from tensorflow.keras.layers import BatchNormalization\n",
    "from tensorflow.keras.optimizers import Adam\n",
    "import tensorflow.keras.utils as kutils\n",
    "import matplotlib.pyplot as plt\n",
    "%matplotlib inline\n",
    "import cv2\n",
    "\n",
    "# suppress scintific notation warnings in numpy\n",
    "np.set_printoptions(suppress=True)\n",
    "warnings.filterwarnings('ignore')\n",
    "from sklearn import preprocessing\n",
    "from sklearn.model_selection import train_test_split\n",
    "from sklearn.metrics import accuracy_score, confusion_matrix, precision_score, recall_score, f1_score, precision_recall_curve, auc"
   ]
  },
  {
   "cell_type": "code",
   "execution_count": 2,
   "metadata": {},
   "outputs": [
    {
     "name": "stdout",
     "output_type": "stream",
     "text": [
      "(4750,)\n",
      "(4750, 128, 128, 3)\n",
      "The number of labels and number of images correspond\n"
     ]
    }
   ],
   "source": [
    "'''Importing the data'''\n",
    "labels = pd.read_csv('../Data/Labels.csv')['Label']\n",
    "data = np.load('../Data/images.npy')\n",
    "print(labels.shape)\n",
    "print(data.shape)\n",
    "if labels.shape[0]==data.shape[0]:\n",
    "    print('The number of labels and number of images correspond')\n",
    "else:\n",
    "    print('Check input data')"
   ]
  },
  {
   "cell_type": "code",
   "execution_count": 3,
   "metadata": {},
   "outputs": [
    {
     "name": "stdout",
     "output_type": "stream",
     "text": [
      "['Small-flowered Cranesbill' 'Fat Hen' 'Shepherds Purse' 'Common wheat'\n",
      " 'Common Chickweed' 'Charlock' 'Cleavers' 'Scentless Mayweed' 'Sugar beet'\n",
      " 'Maize' 'Black-grass' 'Loose Silky-bent']\n",
      "\n",
      "Number of classes =  12\n"
     ]
    }
   ],
   "source": [
    "'''Printing the categories and storing the number of classes'''\n",
    "categories = labels.unique()\n",
    "print(categories)\n",
    "nclass = np.size(categories)\n",
    "print('\\nNumber of classes = ', nclass)"
   ]
  },
  {
   "cell_type": "code",
   "execution_count": null,
   "metadata": {},
   "outputs": [],
   "source": []
  },
  {
   "cell_type": "code",
   "execution_count": 4,
   "metadata": {},
   "outputs": [
    {
     "name": "stdout",
     "output_type": "stream",
     "text": [
      "(4750, 12)\n",
      "[[0. 0. 0. ... 0. 1. 0.]\n",
      " [0. 0. 0. ... 0. 1. 0.]\n",
      " [0. 0. 0. ... 0. 1. 0.]\n",
      " ...\n",
      " [0. 0. 0. ... 0. 0. 0.]\n",
      " [0. 0. 0. ... 0. 0. 0.]\n",
      " [0. 0. 0. ... 0. 0. 0.]]\n"
     ]
    }
   ],
   "source": [
    "'''One hot encoding to make labels data into 2D matrix of categorical variables'''\n",
    "encoder = preprocessing.LabelEncoder()\n",
    "encoder.fit(labels)\n",
    "labels_transformed = encoder.transform(labels)\n",
    "labels_cat = kutils.to_categorical(labels_transformed)\n",
    "\n",
    "print(labels_cat.shape)\n",
    "print(labels_cat)"
   ]
  },
  {
   "cell_type": "code",
   "execution_count": 5,
   "metadata": {},
   "outputs": [],
   "source": [
    "'''Splittling the data into test and train datasets'''\n",
    "x_train,x_valid,y_train,y_valid = train_test_split(data, labels_cat,test_size=0.3,random_state=1,stratify=labels_cat)"
   ]
  },
  {
   "cell_type": "code",
   "execution_count": 6,
   "metadata": {},
   "outputs": [
    {
     "data": {
      "text/plain": [
       "(3325, 12)"
      ]
     },
     "execution_count": 6,
     "metadata": {},
     "output_type": "execute_result"
    }
   ],
   "source": [
    "y_train.shape"
   ]
  },
  {
   "cell_type": "code",
   "execution_count": 7,
   "metadata": {},
   "outputs": [
    {
     "data": {
      "text/plain": [
       "<AxesSubplot:>"
      ]
     },
     "execution_count": 7,
     "metadata": {},
     "output_type": "execute_result"
    },
    {
     "data": {
      "image/png": "[encoded data removed]",
      "text/plain": [
       "<Figure size 1656x576 with 1 Axes>"
      ]
     },
     "metadata": {
      "needs_background": "light"
     },
     "output_type": "display_data"
    }
   ],
   "source": [
    "'''Visualizing the label data and its categories'''\n",
    "ytrain_arr = np.array(labels)\n",
    "np.unique(ytrain_arr.flatten(), return_counts = True)[0]\n",
    "plt.figure(figsize=(23,8))\n",
    "plt.grid()\n",
    "sns.barplot(np.unique(ytrain_arr.flatten(), return_counts = True)[0], np.unique(ytrain_arr.flatten(), return_counts = True)[1])"
   ]
  },
  {
   "cell_type": "code",
   "execution_count": null,
   "metadata": {
    "scrolled": false
   },
   "outputs": [],
   "source": []
  },
  {
   "cell_type": "code",
   "execution_count": 8,
   "metadata": {},
   "outputs": [],
   "source": [
    "x_train = x_train.astype('float32') # Conversion to float type from integer type.\n",
    "x_valid = x_valid.astype('float32')\n",
    "x_train = x_train/255.0 # Division by 255\n",
    "x_valid = x_valid/255.0"
   ]
  },
  {
   "cell_type": "code",
   "execution_count": 9,
   "metadata": {},
   "outputs": [],
   "source": [
    "tf.keras.backend.clear_session()\n",
    "#sequential model initializing\n",
    "model = Sequential()\n",
    "#adding 1st convolution layer with 64 filters and imput shape 128 x128x3 with relu function\n",
    "model.add(Conv2D(filters=64, kernel_size=(3, 3), input_shape=(128, 128, 3), activation='relu'))\n",
    "#normalising batch\n",
    "model.add(BatchNormalization(axis=3))\n",
    "#adding 2nd convolution layer with 64 filters\n",
    "model.add(Conv2D(filters=64, kernel_size=(3, 3), activation='relu'))\n",
    "#maxpooling\n",
    "model.add(MaxPooling2D((2, 2)))\n",
    "#normalising batch\n",
    "model.add(BatchNormalization(axis=3))\n",
    "model.add(Dropout(0.1))\n",
    "#adding 3rd convolution layer with 32 filters\n",
    "model.add(Conv2D(filters=32, kernel_size=(3, 3), activation='relu'))\n",
    "#normalising batch\n",
    "model.add(BatchNormalization(axis=3))\n",
    "#adding 4th convolution layer with 32 filters\n",
    "model.add(Conv2D(filters=32, kernel_size=(3, 3), activation='relu'))\n",
    "#maxpooling\n",
    "model.add(MaxPooling2D((2, 2)))\n",
    "#normalising batch\n",
    "model.add(BatchNormalization(axis=3))\n",
    "model.add(Dropout(0.1))\n",
    "# Global Max pooling layer\n",
    "model.add(GlobalMaxPool2D())\n",
    "\n",
    "#flattening layer\n",
    "model.add(Flatten())\n",
    "#Dense layer\n",
    "#adding 1 st dense layer\n",
    "model.add(Dense(100, activation='relu'))\n",
    "model.add(BatchNormalization())\n",
    "model.add(Dropout(0.5))\n",
    "#adding 2 nd dense layer\n",
    "model.add(Dense(50, activation='relu'))\n",
    "model.add(BatchNormalization())\n",
    "model.add(Dropout(0.5))\n",
    "#adding dense layer with number of outputs = nclass with softmax function\n",
    "model.add(Dense(nclass, activation='softmax'))"
   ]
  },
  {
   "cell_type": "code",
   "execution_count": 12,
   "metadata": {},
   "outputs": [],
   "source": [
    "from tensorflow.keras.callbacks import ModelCheckpoint, EarlyStopping\n",
    "\n",
    "early_stopping = EarlyStopping(monitor='val_loss', min_delta=0.001, patience=10, verbose=1)\n",
    "\n",
    "#Adding Model Checkpoint callback to the fit function is going to save the weights whenever val_loss achieves a new low value. \n",
    "#Hence saving the best weights occurred during training\n",
    "\n",
    "model_checkpoint =  ModelCheckpoint('cifar_cnn_checkpoint_{epoch:02d}_loss{val_loss:.4f}.h5',\n",
    "                                                           monitor='val_loss',\n",
    "                                                           verbose=1,\n",
    "                                                           save_best_only=True,\n",
    "                                                           save_weights_only=True,\n",
    "                                                           mode='auto')"
   ]
  },
  {
   "cell_type": "code",
   "execution_count": 14,
   "metadata": {},
   "outputs": [],
   "source": [
    "# initiate Adam optimizer\n",
    "optA = tf.keras.optimizers.Adam(learning_rate=0.0001)\n",
    "model.compile(optimizer=optA, loss='categorical_crossentropy', metrics=['accuracy'])"
   ]
  },
  {
   "cell_type": "code",
   "execution_count": null,
   "metadata": {},
   "outputs": [
    {
     "name": "stdout",
     "output_type": "stream",
     "text": [
      "Epoch 1/100\n",
      " 51/104 [=============>................] - ETA: 2:11 - loss: 3.4521 - accuracy: 0.1066"
     ]
    }
   ],
   "source": [
    "model_history=model.fit(x_train, y_train, epochs=100, validation_data=(x_valid,y_valid),\n",
    "                        shuffle=True, verbose=1, callbacks=[early_stopping,model_checkpoint])"
   ]
  },
  {
   "cell_type": "code",
   "execution_count": 212,
   "metadata": {},
   "outputs": [
    {
     "data": {
      "image/png": "[encoded data removed]",
      "text/plain": [
       "<Figure size 432x288 with 1 Axes>"
      ]
     },
     "metadata": {
      "needs_background": "light"
     },
     "output_type": "display_data"
    }
   ],
   "source": [
    "# plot training history\n",
    "plt.plot(model_history.history['loss'], label='train')\n",
    "#plt.plot(model_history.history['val_loss'], label='test')\n",
    "plt.legend()\n",
    "plt.show()"
   ]
  }
 ],
 "metadata": {
  "kernelspec": {
   "display_name": "Python 3",
   "language": "python",
   "name": "python3"
  },
  "language_info": {
   "codemirror_mode": {
    "name": "ipython",
    "version": 3
   },
   "file_extension": ".py",
   "mimetype": "text/x-python",
   "name": "python",
   "nbconvert_exporter": "python",
   "pygments_lexer": "ipython3",
   "version": "3.7.6"
  }
 },
 "nbformat": 4,
 "nbformat_minor": 4
}
